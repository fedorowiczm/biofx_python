{
  "cells": [
    {
      "cell_type": "code",
      "execution_count": null,
      "metadata": {
        "id": "c34paYbAOdSq"
      },
      "outputs": [],
      "source": [
        "# define a new sequence\n",
        "seq = 'ACGT'"
      ]
    },
    {
      "cell_type": "code",
      "execution_count": null,
      "metadata": {
        "collapsed": true,
        "id": "Ir-gTozfOdSv"
      },
      "outputs": [],
      "source": [
        "# define a new sequence\n",
        "seq = \"ACGT\""
      ]
    },
    {
      "cell_type": "code",
      "execution_count": null,
      "metadata": {
        "id": "K2r7cWWNOdSw",
        "outputId": "ae31d05e-9cbe-42ef-c75a-6826a161823e"
      },
      "outputs": [
        {
          "data": {
            "text/plain": [
              "'C'"
            ]
          },
          "execution_count": 3,
          "metadata": {},
          "output_type": "execute_result"
        }
      ],
      "source": [
        "# Get a character from a string\n",
        "seq[1]"
      ]
    },
    {
      "cell_type": "code",
      "execution_count": null,
      "metadata": {
        "id": "h6amHBzGOdSy",
        "outputId": "5e4ad732-c760-4457-b806-8571c604106f"
      },
      "outputs": [
        {
          "data": {
            "text/plain": [
              "4"
            ]
          },
          "execution_count": 4,
          "metadata": {},
          "output_type": "execute_result"
        }
      ],
      "source": [
        "# get the length of a sequence\n",
        "len(seq)"
      ]
    },
    {
      "cell_type": "code",
      "execution_count": null,
      "metadata": {
        "id": "Nm5DyvtOOdSz"
      },
      "outputs": [],
      "source": [
        "# empty string (epsilon)\n",
        "e = ''"
      ]
    },
    {
      "cell_type": "code",
      "execution_count": null,
      "metadata": {
        "id": "Oe1gWladOdS0",
        "outputId": "1a1a2115-a354-4306-83b5-042cad0c3d15"
      },
      "outputs": [
        {
          "data": {
            "text/plain": [
              "0"
            ]
          },
          "execution_count": 6,
          "metadata": {},
          "output_type": "execute_result"
        }
      ],
      "source": [
        "len(e)"
      ]
    },
    {
      "cell_type": "code",
      "execution_count": null,
      "metadata": {
        "id": "QZ71YX9LOdS1",
        "outputId": "91e91cf3-a08f-4326-ed53-958ddab6b199"
      },
      "outputs": [
        {
          "name": "stdout",
          "output_type": "stream",
          "text": [
            "AACCGGTT\n"
          ]
        }
      ],
      "source": [
        "# concatenation\n",
        "seq1 = 'AACC'\n",
        "seq2 = 'GGTT'\n",
        "print(seq1 + seq2)"
      ]
    },
    {
      "cell_type": "code",
      "execution_count": null,
      "metadata": {
        "id": "Dz9J_I-kOdS3",
        "outputId": "fcc780ef-fe5e-412d-a0fb-f797c352f597"
      },
      "outputs": [
        {
          "name": "stdout",
          "output_type": "stream",
          "text": [
            "ACGT\n"
          ]
        }
      ],
      "source": [
        "seqs = ['A', 'C', 'G', 'T']\n",
        "print(''.join(seqs))"
      ]
    },
    {
      "cell_type": "code",
      "execution_count": null,
      "metadata": {
        "id": "2AYpp-pSOdS4",
        "outputId": "336d3076-c089-4704-cb50-123ec8810144"
      },
      "outputs": [
        {
          "data": {
            "text/plain": [
              "'T'"
            ]
          },
          "execution_count": 9,
          "metadata": {},
          "output_type": "execute_result"
        }
      ],
      "source": [
        "# generate a random nucleotide\n",
        "import random\n",
        "random.choice('ACGT')"
      ]
    },
    {
      "cell_type": "code",
      "execution_count": null,
      "metadata": {
        "id": "OD7_vVUHOdS5",
        "outputId": "103b15ed-462a-424d-e129-aab7dd36c869"
      },
      "outputs": [
        {
          "name": "stdout",
          "output_type": "stream",
          "text": [
            "TCAATTCCAT\n"
          ]
        }
      ],
      "source": [
        "# generate a random sequence\n",
        "seq = ''\n",
        "for _ in range(10):\n",
        "    seq += random.choice('ACGT')\n",
        "print(seq)"
      ]
    },
    {
      "cell_type": "code",
      "execution_count": null,
      "metadata": {
        "id": "SAvAcGEHOdS6",
        "outputId": "f20b1548-8008-468c-aac7-d0926209edcf"
      },
      "outputs": [
        {
          "name": "stdout",
          "output_type": "stream",
          "text": [
            "GATCACCGAC\n"
          ]
        }
      ],
      "source": [
        "# another way to generate a random sequence\n",
        "seq = ''.join([random.choice('ACGT') for _ in range(10)])\n",
        "print(seq)"
      ]
    },
    {
      "cell_type": "code",
      "execution_count": null,
      "metadata": {
        "id": "X-a9M17iOdS7",
        "outputId": "b2730644-4380-4f20-b2b0-f8334b382de0"
      },
      "outputs": [
        {
          "data": {
            "text/plain": [
              "'AT'"
            ]
          },
          "execution_count": 12,
          "metadata": {},
          "output_type": "execute_result"
        }
      ],
      "source": [
        "# get a substring\n",
        "seq[1:3]"
      ]
    },
    {
      "cell_type": "code",
      "execution_count": null,
      "metadata": {
        "id": "jp5Om7YcOdS8",
        "outputId": "28cbda59-cd4f-4752-aa37-ea38cc61993f"
      },
      "outputs": [
        {
          "data": {
            "text/plain": [
              "'GAT'"
            ]
          },
          "execution_count": 13,
          "metadata": {},
          "output_type": "execute_result"
        }
      ],
      "source": [
        "# get a prefix\n",
        "seq[:3]"
      ]
    },
    {
      "cell_type": "code",
      "execution_count": null,
      "metadata": {
        "id": "zmDj7xh3OdS8",
        "outputId": "325b08c1-932c-484c-95be-6f1658e85524"
      },
      "outputs": [
        {
          "data": {
            "text/plain": [
              "'GAC'"
            ]
          },
          "execution_count": 14,
          "metadata": {},
          "output_type": "execute_result"
        }
      ],
      "source": [
        "# get a suffix\n",
        "seq[7:]"
      ]
    },
    {
      "cell_type": "code",
      "execution_count": null,
      "metadata": {
        "id": "Mjv2ftFNOdS9",
        "outputId": "351d8f85-8066-48f0-ac78-884196aa29e3"
      },
      "outputs": [
        {
          "data": {
            "text/plain": [
              "'GAC'"
            ]
          },
          "execution_count": 15,
          "metadata": {},
          "output_type": "execute_result"
        }
      ],
      "source": [
        "# another way to get a suffix\n",
        "seq[-3:]"
      ]
    }
  ],
  "metadata": {
    "kernelspec": {
      "display_name": "Python 3",
      "language": "python",
      "name": "python3"
    },
    "language_info": {
      "codemirror_mode": {
        "name": "ipython",
        "version": 3
      },
      "file_extension": ".py",
      "mimetype": "text/x-python",
      "name": "python",
      "nbconvert_exporter": "python",
      "pygments_lexer": "ipython3",
      "version": "3.4.3"
    },
    "colab": {
      "name": "1.01_StringBasics.ipynb",
      "provenance": []
    }
  },
  "nbformat": 4,
  "nbformat_minor": 0
}